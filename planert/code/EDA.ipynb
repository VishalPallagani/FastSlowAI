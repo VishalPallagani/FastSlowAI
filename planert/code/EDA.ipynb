{
 "cells": [
  {
   "cell_type": "code",
   "execution_count": 27,
   "id": "f0e051cc",
   "metadata": {},
   "outputs": [],
   "source": [
    "import pandas as pd"
   ]
  },
  {
   "cell_type": "code",
   "execution_count": 28,
   "id": "889edb55",
   "metadata": {},
   "outputs": [],
   "source": [
    "df = pd.read_csv(\"../data/planning_dataaset.csv\")"
   ]
  },
  {
   "cell_type": "code",
   "execution_count": 29,
   "id": "20f75f23",
   "metadata": {},
   "outputs": [
    {
     "data": {
      "text/html": [
       "<div>\n",
       "<style scoped>\n",
       "    .dataframe tbody tr th:only-of-type {\n",
       "        vertical-align: middle;\n",
       "    }\n",
       "\n",
       "    .dataframe tbody tr th {\n",
       "        vertical-align: top;\n",
       "    }\n",
       "\n",
       "    .dataframe thead th {\n",
       "        text-align: right;\n",
       "    }\n",
       "</style>\n",
       "<table border=\"1\" class=\"dataframe\">\n",
       "  <thead>\n",
       "    <tr style=\"text-align: right;\">\n",
       "      <th></th>\n",
       "      <th>Task</th>\n",
       "      <th>Domain</th>\n",
       "      <th>Problem</th>\n",
       "      <th>Plan</th>\n",
       "    </tr>\n",
       "  </thead>\n",
       "  <tbody>\n",
       "    <tr>\n",
       "      <th>0</th>\n",
       "      <td>airport</td>\n",
       "      <td>(define (domain airport_fixed_structure)\\n\\n(:...</td>\n",
       "      <td>(define (problem PROBLEM_X)\\n\\n(:domain airpor...</td>\n",
       "      <td>move_seg_rw_0_400_seg_rww_0_50_south_south_med...</td>\n",
       "    </tr>\n",
       "    <tr>\n",
       "      <th>1</th>\n",
       "      <td>airport</td>\n",
       "      <td>(define (domain airport_fixed_structure)\\n\\n(:...</td>\n",
       "      <td>(define (problem PROBLEM_X)\\n\\n(:domain airpor...</td>\n",
       "      <td>pushback_seg_pp_0_60_seg_ppdoor_0_40_south_sou...</td>\n",
       "    </tr>\n",
       "    <tr>\n",
       "      <th>2</th>\n",
       "      <td>airport</td>\n",
       "      <td>(define (domain airport_fixed_structure)\\n\\n(:...</td>\n",
       "      <td>(define (problem PROBLEM_X)\\n\\n(:domain airpor...</td>\n",
       "      <td>pushback_seg_pp_0_60_seg_ppdoor_0_40_south_sou...</td>\n",
       "    </tr>\n",
       "    <tr>\n",
       "      <th>3</th>\n",
       "      <td>blocks</td>\n",
       "      <td>(define (domain BLOCKS)\\n  (:requirements :str...</td>\n",
       "      <td>(define (problem BLOCKS-4-0)\\n(:domain BLOCKS)...</td>\n",
       "      <td>pick-up b (1)\\nstack b a (1)\\npick-up c (1)\\ns...</td>\n",
       "    </tr>\n",
       "    <tr>\n",
       "      <th>4</th>\n",
       "      <td>blocks</td>\n",
       "      <td>(define (domain BLOCKS)\\n  (:requirements :str...</td>\n",
       "      <td>(define (problem BLOCKS-4-1)\\n(:domain BLOCKS)...</td>\n",
       "      <td>unstack b c (1)\\nput-down b (1)\\nunstack c a (...</td>\n",
       "    </tr>\n",
       "  </tbody>\n",
       "</table>\n",
       "</div>"
      ],
      "text/plain": [
       "      Task                                             Domain  \\\n",
       "0  airport  (define (domain airport_fixed_structure)\\n\\n(:...   \n",
       "1  airport  (define (domain airport_fixed_structure)\\n\\n(:...   \n",
       "2  airport  (define (domain airport_fixed_structure)\\n\\n(:...   \n",
       "3   blocks  (define (domain BLOCKS)\\n  (:requirements :str...   \n",
       "4   blocks  (define (domain BLOCKS)\\n  (:requirements :str...   \n",
       "\n",
       "                                             Problem  \\\n",
       "0  (define (problem PROBLEM_X)\\n\\n(:domain airpor...   \n",
       "1  (define (problem PROBLEM_X)\\n\\n(:domain airpor...   \n",
       "2  (define (problem PROBLEM_X)\\n\\n(:domain airpor...   \n",
       "3  (define (problem BLOCKS-4-0)\\n(:domain BLOCKS)...   \n",
       "4  (define (problem BLOCKS-4-1)\\n(:domain BLOCKS)...   \n",
       "\n",
       "                                                Plan  \n",
       "0  move_seg_rw_0_400_seg_rww_0_50_south_south_med...  \n",
       "1  pushback_seg_pp_0_60_seg_ppdoor_0_40_south_sou...  \n",
       "2  pushback_seg_pp_0_60_seg_ppdoor_0_40_south_sou...  \n",
       "3  pick-up b (1)\\nstack b a (1)\\npick-up c (1)\\ns...  \n",
       "4  unstack b c (1)\\nput-down b (1)\\nunstack c a (...  "
      ]
     },
     "execution_count": 29,
     "metadata": {},
     "output_type": "execute_result"
    }
   ],
   "source": [
    "df.head()"
   ]
  },
  {
   "cell_type": "code",
   "execution_count": 30,
   "id": "9ae72e8e",
   "metadata": {},
   "outputs": [
    {
     "data": {
      "text/plain": [
       "array(['airport', 'blocks', 'data-network-opt18', 'depot', 'driverlog',\n",
       "       'elevators', 'freecell', 'grid', 'gripper', 'hanoi', 'logistics98',\n",
       "       'miconic', 'movie', 'mprime', 'mystery', 'rovers', 'storage',\n",
       "       'tpp', 'tsp', 'tyreworld', 'zenotravel'], dtype=object)"
      ]
     },
     "execution_count": 30,
     "metadata": {},
     "output_type": "execute_result"
    }
   ],
   "source": [
    "df.Task.unique()"
   ]
  },
  {
   "cell_type": "code",
   "execution_count": 31,
   "id": "d693dbea",
   "metadata": {},
   "outputs": [],
   "source": [
    "df.dropna(inplace = True)"
   ]
  },
  {
   "cell_type": "code",
   "execution_count": 32,
   "id": "576cb424",
   "metadata": {},
   "outputs": [],
   "source": [
    "df[\"Domain len\"] = df[\"Domain\"].str.len()\n",
    "df[\"Problem len\"] = df[\"Problem\"].str.len()\n",
    "df[\"Plan len\"] = df[\"Plan\"].str.len()"
   ]
  },
  {
   "cell_type": "code",
   "execution_count": 33,
   "id": "88d0b942",
   "metadata": {},
   "outputs": [],
   "source": [
    "rslt_df = df[df['Domain len'] <= 512]"
   ]
  },
  {
   "cell_type": "code",
   "execution_count": 34,
   "id": "e3189f45",
   "metadata": {},
   "outputs": [
    {
     "name": "stderr",
     "output_type": "stream",
     "text": [
      "/var/folders/qv/rl25pnbn4479pqjcx3wjrb3c0000gn/T/ipykernel_49076/2917708848.py:1: UserWarning: Boolean Series key will be reindexed to match DataFrame index.\n",
      "  rslt_df = rslt_df[df['Problem len'] <= 512]\n"
     ]
    }
   ],
   "source": [
    "rslt_df = rslt_df[df['Problem len'] <= 512]"
   ]
  },
  {
   "cell_type": "code",
   "execution_count": 35,
   "id": "920376d8",
   "metadata": {},
   "outputs": [
    {
     "name": "stderr",
     "output_type": "stream",
     "text": [
      "/var/folders/qv/rl25pnbn4479pqjcx3wjrb3c0000gn/T/ipykernel_49076/1783033474.py:1: UserWarning: Boolean Series key will be reindexed to match DataFrame index.\n",
      "  rslt_df = rslt_df[df['Plan len'] <= 512]\n"
     ]
    }
   ],
   "source": [
    "rslt_df = rslt_df[df['Plan len'] <= 512]"
   ]
  },
  {
   "cell_type": "raw",
   "id": "caf0f6fc",
   "metadata": {},
   "source": [
    "rslt_df.info()"
   ]
  },
  {
   "cell_type": "code",
   "execution_count": 37,
   "id": "fa225a6d",
   "metadata": {},
   "outputs": [
    {
     "data": {
      "text/plain": [
       "array(['hanoi', 'tsp'], dtype=object)"
      ]
     },
     "execution_count": 37,
     "metadata": {},
     "output_type": "execute_result"
    }
   ],
   "source": [
    "rslt_df.Task.unique()"
   ]
  },
  {
   "cell_type": "markdown",
   "id": "9aa2725f",
   "metadata": {},
   "source": [
    "### Loading Planning dataset made for T5"
   ]
  },
  {
   "cell_type": "code",
   "execution_count": 46,
   "id": "be0165d9",
   "metadata": {},
   "outputs": [],
   "source": [
    "df_T5 = pd.read_csv(\"../data/planningDataset_T5.csv\")"
   ]
  },
  {
   "cell_type": "code",
   "execution_count": 47,
   "id": "c70a3760",
   "metadata": {},
   "outputs": [
    {
     "data": {
      "text/html": [
       "<div>\n",
       "<style scoped>\n",
       "    .dataframe tbody tr th:only-of-type {\n",
       "        vertical-align: middle;\n",
       "    }\n",
       "\n",
       "    .dataframe tbody tr th {\n",
       "        vertical-align: top;\n",
       "    }\n",
       "\n",
       "    .dataframe thead th {\n",
       "        text-align: right;\n",
       "    }\n",
       "</style>\n",
       "<table border=\"1\" class=\"dataframe\">\n",
       "  <thead>\n",
       "    <tr style=\"text-align: right;\">\n",
       "      <th></th>\n",
       "      <th>Unnamed: 0.1</th>\n",
       "      <th>Unnamed: 0</th>\n",
       "      <th>Task</th>\n",
       "      <th>Domain</th>\n",
       "      <th>Problem</th>\n",
       "      <th>Plan</th>\n",
       "      <th>Domain len</th>\n",
       "      <th>Problem len</th>\n",
       "      <th>Plan len</th>\n",
       "    </tr>\n",
       "  </thead>\n",
       "  <tbody>\n",
       "    <tr>\n",
       "      <th>0</th>\n",
       "      <td>0</td>\n",
       "      <td>151</td>\n",
       "      <td>hanoi</td>\n",
       "      <td>(define (domain hanoi) (:requirements :strips...</td>\n",
       "      <td>(define (problem hanoi-1) (:domain hanoi) (...</td>\n",
       "      <td>move d1 peg1 peg3 (1)</td>\n",
       "      <td>450</td>\n",
       "      <td>246</td>\n",
       "      <td>21</td>\n",
       "    </tr>\n",
       "    <tr>\n",
       "      <th>1</th>\n",
       "      <td>1</td>\n",
       "      <td>152</td>\n",
       "      <td>hanoi</td>\n",
       "      <td>(define (domain hanoi) (:requirements :strips...</td>\n",
       "      <td>(define (problem hanoi-2) (:domain hanoi) (...</td>\n",
       "      <td>move d1 d2 peg2 (1) move d2 peg1 peg3 (1) move...</td>\n",
       "      <td>450</td>\n",
       "      <td>357</td>\n",
       "      <td>61</td>\n",
       "    </tr>\n",
       "    <tr>\n",
       "      <th>2</th>\n",
       "      <td>2</td>\n",
       "      <td>153</td>\n",
       "      <td>hanoi</td>\n",
       "      <td>(define (domain hanoi) (:requirements :strips...</td>\n",
       "      <td>(define (problem hanoi-3) (:domain hanoi) (...</td>\n",
       "      <td>move d1 d2 peg3 (1) move d2 d3 peg2 (1) move d...</td>\n",
       "      <td>450</td>\n",
       "      <td>484</td>\n",
       "      <td>141</td>\n",
       "    </tr>\n",
       "    <tr>\n",
       "      <th>3</th>\n",
       "      <td>3</td>\n",
       "      <td>275</td>\n",
       "      <td>tsp</td>\n",
       "      <td>(define (domain tsp)   (:predicates      (at ?...</td>\n",
       "      <td>(define (problem tsp-1) (:domain tsp) (:obj...</td>\n",
       "      <td>move p1 p1 (1)</td>\n",
       "      <td>202</td>\n",
       "      <td>106</td>\n",
       "      <td>14</td>\n",
       "    </tr>\n",
       "    <tr>\n",
       "      <th>4</th>\n",
       "      <td>4</td>\n",
       "      <td>276</td>\n",
       "      <td>tsp</td>\n",
       "      <td>(define (domain tsp)   (:predicates      (at ?...</td>\n",
       "      <td>(define (problem tsp-2) (:domain tsp) (:obj...</td>\n",
       "      <td>move p1 p1 (1) move p1 p2 (1)</td>\n",
       "      <td>202</td>\n",
       "      <td>122</td>\n",
       "      <td>29</td>\n",
       "    </tr>\n",
       "  </tbody>\n",
       "</table>\n",
       "</div>"
      ],
      "text/plain": [
       "   Unnamed: 0.1  Unnamed: 0   Task  \\\n",
       "0             0         151  hanoi   \n",
       "1             1         152  hanoi   \n",
       "2             2         153  hanoi   \n",
       "3             3         275    tsp   \n",
       "4             4         276    tsp   \n",
       "\n",
       "                                              Domain  \\\n",
       "0   (define (domain hanoi) (:requirements :strips...   \n",
       "1   (define (domain hanoi) (:requirements :strips...   \n",
       "2   (define (domain hanoi) (:requirements :strips...   \n",
       "3  (define (domain tsp)   (:predicates      (at ?...   \n",
       "4  (define (domain tsp)   (:predicates      (at ?...   \n",
       "\n",
       "                                             Problem  \\\n",
       "0     (define (problem hanoi-1) (:domain hanoi) (...   \n",
       "1     (define (problem hanoi-2) (:domain hanoi) (...   \n",
       "2     (define (problem hanoi-3) (:domain hanoi) (...   \n",
       "3     (define (problem tsp-1) (:domain tsp) (:obj...   \n",
       "4     (define (problem tsp-2) (:domain tsp) (:obj...   \n",
       "\n",
       "                                                Plan  Domain len  Problem len  \\\n",
       "0                              move d1 peg1 peg3 (1)         450          246   \n",
       "1  move d1 d2 peg2 (1) move d2 peg1 peg3 (1) move...         450          357   \n",
       "2  move d1 d2 peg3 (1) move d2 d3 peg2 (1) move d...         450          484   \n",
       "3                                     move p1 p1 (1)         202          106   \n",
       "4                      move p1 p1 (1) move p1 p2 (1)         202          122   \n",
       "\n",
       "   Plan len  \n",
       "0        21  \n",
       "1        61  \n",
       "2       141  \n",
       "3        14  \n",
       "4        29  "
      ]
     },
     "execution_count": 47,
     "metadata": {},
     "output_type": "execute_result"
    }
   ],
   "source": [
    "df_T5.head()"
   ]
  },
  {
   "cell_type": "code",
   "execution_count": 51,
   "id": "72a973ac",
   "metadata": {},
   "outputs": [],
   "source": [
    "df_T5['combined'] = df_T5['Domain'] + df_T5['Problem']"
   ]
  },
  {
   "cell_type": "code",
   "execution_count": 52,
   "id": "e495eae5",
   "metadata": {},
   "outputs": [],
   "source": [
    "df_T5['combineLen'] = df_T5['combined'].str.len()"
   ]
  },
  {
   "cell_type": "code",
   "execution_count": 54,
   "id": "95d17578",
   "metadata": {},
   "outputs": [],
   "source": [
    "df_T5 = df_T5[df_T5['combineLen'] <= 512]"
   ]
  },
  {
   "cell_type": "code",
   "execution_count": 55,
   "id": "c181ea7b",
   "metadata": {},
   "outputs": [
    {
     "name": "stdout",
     "output_type": "stream",
     "text": [
      "<class 'pandas.core.frame.DataFrame'>\n",
      "Int64Index: 13 entries, 3 to 15\n",
      "Data columns (total 11 columns):\n",
      " #   Column        Non-Null Count  Dtype \n",
      "---  ------        --------------  ----- \n",
      " 0   Unnamed: 0.1  13 non-null     int64 \n",
      " 1   Unnamed: 0    13 non-null     int64 \n",
      " 2   Task          13 non-null     object\n",
      " 3   Domain        13 non-null     object\n",
      " 4   Problem       13 non-null     object\n",
      " 5   Plan          13 non-null     object\n",
      " 6   Domain len    13 non-null     int64 \n",
      " 7   Problem len   13 non-null     int64 \n",
      " 8   Plan len      13 non-null     int64 \n",
      " 9   combined      13 non-null     object\n",
      " 10  combineLen    13 non-null     int64 \n",
      "dtypes: int64(6), object(5)\n",
      "memory usage: 1.2+ KB\n"
     ]
    }
   ],
   "source": []
  },
  {
   "cell_type": "code",
   "execution_count": 56,
   "id": "4ba20113",
   "metadata": {},
   "outputs": [],
   "source": [
    "df_T5 = df_T5.drop(df_T5.columns[[0, 1, 2, 3, 4, 6, 7, 8, 10]], axis=1)"
   ]
  },
  {
   "cell_type": "code",
   "execution_count": 57,
   "id": "1b21a8b9",
   "metadata": {},
   "outputs": [],
   "source": [
    "df_T5.to_csv(\"dataT5combinePD.csv\")"
   ]
  },
  {
   "cell_type": "code",
   "execution_count": null,
   "id": "b38c0c88",
   "metadata": {},
   "outputs": [],
   "source": []
  }
 ],
 "metadata": {
  "kernelspec": {
   "display_name": "Python 3 (ipykernel)",
   "language": "python",
   "name": "python3"
  },
  "language_info": {
   "codemirror_mode": {
    "name": "ipython",
    "version": 3
   },
   "file_extension": ".py",
   "mimetype": "text/x-python",
   "name": "python",
   "nbconvert_exporter": "python",
   "pygments_lexer": "ipython3",
   "version": "3.9.13"
  }
 },
 "nbformat": 4,
 "nbformat_minor": 5
}
