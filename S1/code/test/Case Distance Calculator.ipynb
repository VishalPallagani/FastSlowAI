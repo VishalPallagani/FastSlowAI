{
 "cells": [
  {
   "cell_type": "code",
   "execution_count": 31,
   "metadata": {},
   "outputs": [],
   "source": [
    "## Install libraries as needed\n",
    "# There are many libraries for similarity (Levenstein) like editdistance and enchant\n",
    "## For editdistance, \n",
    "#!pip install editdistance\n",
    "## For enchant, \n",
    "#!pip install pyenchant"
   ]
  },
  {
   "cell_type": "code",
   "execution_count": 1,
   "metadata": {},
   "outputs": [],
   "source": [
    "#importing necessary libs\n",
    "import json\n",
    "import editdistance #lib for computing levenshtein distance\n",
    "import ast\n",
    "from operator import itemgetter"
   ]
  },
  {
   "cell_type": "code",
   "execution_count": 2,
   "metadata": {},
   "outputs": [],
   "source": [
    "#loading the cases.json file\n",
    "with open(\"../../cases/cases.json\") as f:\n",
    "    file = json.load(f)"
   ]
  },
  {
   "cell_type": "code",
   "execution_count": 3,
   "metadata": {},
   "outputs": [],
   "source": [
    "#function for taking in user input and creating the representation for distance calculation methods\n",
    "def caseRepnGen(inp_dict):\n",
    "    res = ast.literal_eval(inp_dict)\n",
    "    domain = res[\"domain\"]\n",
    "    init = res[\"init\"]\n",
    "    goal = res[\"goal\"]\n",
    "    return domain, \"|\".join(init) + \"|\" + \"|\".join(goal)"
   ]
  },
  {
   "cell_type": "code",
   "execution_count": 4,
   "metadata": {},
   "outputs": [
    {
     "name": "stdout",
     "output_type": "stream",
     "text": [
      "Enter Input: {\"domain\": \"blockworld\", \"init\": [ \"(on-table a)\", \"(on-table b)\", \"(clear a)\", \"(clear b)\", \"(arm-empty)\" ], \"goal\": [ \"(on a b)\" ]}\n"
     ]
    }
   ],
   "source": [
    "# sample input: {\"domain\": \"blockworld\", \"init\": [ \"(on-table a)\", \"(on-table b)\", \"(clear a)\", \"(clear b)\", \"(arm-empty)\" ], \"goal\": [ \"(on a b)\" ]}\n",
    "usr_input = input(\"Enter Input: \")"
   ]
  },
  {
   "cell_type": "code",
   "execution_count": 5,
   "metadata": {},
   "outputs": [],
   "source": [
    "usr_planning_domain, usr_problem = caseRepnGen(usr_input) #where problem P = (I,G)"
   ]
  },
  {
   "cell_type": "markdown",
   "metadata": {},
   "source": [
    "### Method 1\n",
    "##### The user enters the planning domain and problem = (init, goal). Method 1 then uses levenshtein distance as a metric to find similar plans between user's problem string and the problem strings existing in the case library for similar planning domains."
   ]
  },
  {
   "cell_type": "code",
   "execution_count": 18,
   "metadata": {},
   "outputs": [],
   "source": [
    "#function def for computing the normalized levenshtein similarity (1- normalized levenshtein distance)\n",
    "def match(str1,str2):\n",
    "    d = editdistance.eval(str1, str2)\n",
    "    #return enchant.utils.levenshtein(str1, str2)\n",
    "    return 1-(d/max(len(str1), len(str2)))"
   ]
  },
  {
   "cell_type": "code",
   "execution_count": 7,
   "metadata": {},
   "outputs": [],
   "source": [
    "cases = file[\"cases\"]\n",
    "problem_metadata = ['initial','goal'] #metadata considered from the cases library\n",
    "\n",
    "#creating the concatenated attributes of the metadata \n",
    "problem = []\n",
    "for i in range(1,len(cases)+1):\n",
    "    \n",
    "    item = cases[str(i)]\n",
    "    string = \"\"\n",
    "    for x in problem_metadata:\n",
    "        temp_List = item[x]\n",
    "    \n",
    "        if type(temp_List) == list:\n",
    "            for j in temp_List:\n",
    "                string = string + j + '|'\n",
    "        else:\n",
    "            string = string + temp_List + '|'\n",
    "            \n",
    "    problem.append(string)"
   ]
  },
  {
   "cell_type": "code",
   "execution_count": 8,
   "metadata": {},
   "outputs": [
    {
     "data": {
      "text/plain": [
       "'(on-table a)|(on-table b)|(clear a)|(clear b)|(arm-empty)|(on a b)|'"
      ]
     },
     "execution_count": 8,
     "metadata": {},
     "output_type": "execute_result"
    }
   ],
   "source": [
    "#showing sample problem\n",
    "problem[0]"
   ]
  },
  {
   "cell_type": "code",
   "execution_count": 24,
   "metadata": {},
   "outputs": [
    {
     "data": {
      "text/plain": [
       "[(0.9850746268656716, 'blockworld-plans/plan_1.txt')]"
      ]
     },
     "execution_count": 24,
     "metadata": {},
     "output_type": "execute_result"
    }
   ],
   "source": [
    "#lesser the normalized levenshtein distance between two strings, the more similar they are\n",
    "ranked_cases = list()\n",
    "for key in file['cases'].keys():\n",
    "    if(file['cases'][key]['Planning_Domain'] == usr_planning_domain):\n",
    "        distance = match(usr_problem,problem[int(key)-1])\n",
    "        if distance >= 0.7:\n",
    "            ranked_cases.append((distance,file['cases'][key]['Index']))\n",
    "            \n",
    "sorted(ranked_cases,key=itemgetter(0))"
   ]
  },
  {
   "cell_type": "markdown",
   "metadata": {},
   "source": [
    "### Method 2\n",
    "##### The user enters the planning domain and problem = (init, goal). Method 2 considers the problem as a set and finds matching plans using jaccard distance as a metric."
   ]
  },
  {
   "cell_type": "code",
   "execution_count": 41,
   "metadata": {},
   "outputs": [],
   "source": [
    "#defining jaccard distance - similarity metric\n",
    "def jaccard(list1, list2):\n",
    "    #print(list1)\n",
    "    #print(list2)\n",
    "    intersection = len(list(set(list1).intersection(list2)))\n",
    "    union = (len(list1) + len(list2)) - intersection\n",
    "    return float(intersection) / union"
   ]
  },
  {
   "cell_type": "code",
   "execution_count": 42,
   "metadata": {},
   "outputs": [],
   "source": [
    "cases = file[\"cases\"]\n",
    "\n",
    "problem_metadata = ['initial','goal'] #considered attributes\n",
    "\n",
    "#creating a set of attributes for each case\n",
    "problem_set = []\n",
    "for i in range(1,len(cases)+1):\n",
    "    \n",
    "    item = cases[str(i)]\n",
    "    string = []\n",
    "    for x in problem_metadata:\n",
    "        temp_List = item[x]\n",
    "    \n",
    "        if type(temp_List) == list:\n",
    "            for j in temp_List:\n",
    "                string.append(j)\n",
    "        else:\n",
    "            string.append(temp_List)\n",
    "            \n",
    "    problem_set.append(string)"
   ]
  },
  {
   "cell_type": "code",
   "execution_count": 43,
   "metadata": {},
   "outputs": [
    {
     "data": {
      "text/plain": [
       "['(on-table a)',\n",
       " '(on-table b)',\n",
       " '(clear a)',\n",
       " '(clear b)',\n",
       " '(arm-empty)',\n",
       " '(on a b)']"
      ]
     },
     "execution_count": 43,
     "metadata": {},
     "output_type": "execute_result"
    }
   ],
   "source": [
    "#example of the create problem set\n",
    "problem_set[0]"
   ]
  },
  {
   "cell_type": "code",
   "execution_count": 44,
   "metadata": {},
   "outputs": [],
   "source": [
    "#converting user query (str) to a list for computing jaccard distance\n",
    "usr_problem = usr_problem.split('|')"
   ]
  },
  {
   "cell_type": "code",
   "execution_count": 45,
   "metadata": {},
   "outputs": [
    {
     "data": {
      "text/plain": [
       "[(1.0, 'blockworld-plans/plan_1.txt')]"
      ]
     },
     "execution_count": 45,
     "metadata": {},
     "output_type": "execute_result"
    }
   ],
   "source": [
    "#retrieving similar plans based on jaccard distance when planning domain is matching with user query\n",
    "#higher the jaccard score, the more the similarity between the two sets\n",
    "ranked_cases = list()\n",
    "for key in file['cases'].keys():\n",
    "    if(file['cases'][key]['Planning_Domain'] == usr_planning_domain):\n",
    "        sim_score = jaccard(usr_problem, problem_set[int(key)-1])\n",
    "        if sim_score >= 0.8:\n",
    "            ranked_cases.append((sim_score,file['cases'][key]['Index']))\n",
    "sorted(ranked_cases,key=itemgetter(0))"
   ]
  },
  {
   "cell_type": "code",
   "execution_count": null,
   "metadata": {},
   "outputs": [],
   "source": []
  },
  {
   "cell_type": "code",
   "execution_count": null,
   "metadata": {},
   "outputs": [],
   "source": []
  }
 ],
 "metadata": {
  "kernelspec": {
   "display_name": "Python 3 (ipykernel)",
   "language": "python",
   "name": "python3"
  },
  "language_info": {
   "codemirror_mode": {
    "name": "ipython",
    "version": 3
   },
   "file_extension": ".py",
   "mimetype": "text/x-python",
   "name": "python",
   "nbconvert_exporter": "python",
   "pygments_lexer": "ipython3",
   "version": "3.7.11"
  }
 },
 "nbformat": 4,
 "nbformat_minor": 4
}
