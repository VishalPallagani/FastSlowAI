{
 "cells": [
  {
   "cell_type": "code",
   "execution_count": 1,
   "metadata": {},
   "outputs": [],
   "source": [
    "# Importing required libraries\n",
    "import json\n",
    "import re                   # for string operations\n",
    "from os import listdir      # to open all the text files in the directory\n",
    "\n",
    "path = '../../supported_planning_problems/blockworld/problem/'"
   ]
  },
  {
   "cell_type": "code",
   "execution_count": 2,
   "metadata": {},
   "outputs": [],
   "source": [
    "# creating a dictionary to dump into json\n",
    "dict = { \n",
    "    \"cases\": {}\n",
    "    }\n",
    "\n",
    "index = 1\n",
    "\n",
    "def getData(text):\n",
    "        lis = []\n",
    "        start = 0\n",
    "        end = 0\n",
    "        for i in range(len( text )):\n",
    "        \n",
    "                if text[i] == \"(\":\n",
    "                        start = i\n",
    "                \n",
    "                if text[i] == \")\":\n",
    "                        end = i\n",
    "                        if text[start] != text[end]:\n",
    "                                lis.append(text[start:end+1])\n",
    "                        start = i\n",
    "        return lis\n",
    "\n",
    "def initial_states(text):\n",
    "        temp = text[text.index('(:init') +6 : text.index('(:goal')]     # to get states between specific characters into list of strings\n",
    "        return getData(temp)                                            # to strip spaces from list \n",
    "        \n",
    "def goal_states(text):\n",
    "        temp = text[text.index('(and') +4 : -1]             # to get states between specific characters into list of strings\n",
    "        return getData(temp)                                # to strip spaces from list\n",
    "\n",
    "# Iterating through the problem files and adding parameters to json\n",
    "for filename in listdir(path):\n",
    "        number = filename[filename.index('-') +1 : filename.index('.')]\n",
    "        with open(path+filename) as currentfile:\n",
    "                text = currentfile.read()\n",
    "                init = initial_states(text)\n",
    "                goal = goal_states(text)\n",
    "                dict['cases'][index] = {}\n",
    "\n",
    "                dict['cases'][index][\"Planning_Domain\"] = \"BlockWorld\"\n",
    "                dict['cases'][index]['initial'] = init\n",
    "                dict['cases'][index]['goal'] = goal\n",
    "                dict['cases'][index][\"Index\"] = \"blockworld-plans/\" + \"plan_\" + number + '.txt'\n",
    "        index = index + 1\n",
    "\n",
    "        \n",
    "json_object = json.dumps(dict,indent=4)         #creating a json object to write to a json file\n",
    "\n",
    "        "
   ]
  },
  {
   "cell_type": "code",
   "execution_count": 3,
   "metadata": {},
   "outputs": [],
   "source": [
    "# writing dictionary data into json file\n",
    "with open(\"../../cases/cases.json\",\"w\") as out:\n",
    "    out.write(json_object)"
   ]
  }
 ],
 "metadata": {
  "interpreter": {
   "hash": "fa71f0efbc7f2d65b02cc0590f27cb3fcd4e7b48190bca20ac07610d539f429c"
  },
  "kernelspec": {
   "display_name": "Python 3.10.0 64-bit",
   "name": "python3"
  },
  "language_info": {
   "codemirror_mode": {
    "name": "ipython",
    "version": 3
   },
   "file_extension": ".py",
   "mimetype": "text/x-python",
   "name": "python",
   "nbconvert_exporter": "python",
   "pygments_lexer": "ipython3",
   "version": "3.10.0"
  },
  "orig_nbformat": 4
 },
 "nbformat": 4,
 "nbformat_minor": 2
}
