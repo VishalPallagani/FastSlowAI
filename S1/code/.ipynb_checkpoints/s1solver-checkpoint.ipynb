{
 "cells": [
  {
   "cell_type": "code",
   "execution_count": 1,
   "metadata": {},
   "outputs": [],
   "source": [
    "#importing required packages\n",
    "import argparse\n",
    "from os import listdir #to open all the text files in a particular folder"
   ]
  },
  {
   "cell_type": "code",
   "execution_count": 2,
   "metadata": {},
   "outputs": [],
   "source": [
    "#Invoking E-PDDL here\n",
    "def s2_solver():\n",
    "    return None"
   ]
  },
  {
   "cell_type": "code",
   "execution_count": 3,
   "metadata": {},
   "outputs": [],
   "source": [
    "#s1 solver searches through the existing plans in the memory and returns cases - plan and goal\n",
    "def s1_solver(goal, path):\n",
    "    matching_plans = list()\n",
    "    for filename in listdir(path):\n",
    "        with open(path + filename) as currentFile:\n",
    "            text = currentFile.read()\n",
    "            if (goal in text):\n",
    "                matching_plans.append(filename)\n",
    "    return matching_plans"
   ]
  },
  {
   "cell_type": "code",
   "execution_count": 4,
   "metadata": {},
   "outputs": [
    {
     "name": "stdout",
     "output_type": "stream",
     "text": [
      "Enter the goal you want to search for: stack c d\n"
     ]
    }
   ],
   "source": [
    "#getting the goal to search for\n",
    "search_goal = input(\"Enter the goal you want to search for: \")"
   ]
  },
  {
   "cell_type": "code",
   "execution_count": 5,
   "metadata": {},
   "outputs": [],
   "source": [
    "search_path = \"../memory/blockworld-plans/\" #currently assuming the path as the blockworld-plans\n",
    "#At a later point, we want to find the appropriate directory based on the user_goal"
   ]
  },
  {
   "cell_type": "code",
   "execution_count": 6,
   "metadata": {},
   "outputs": [
    {
     "data": {
      "text/plain": [
       "['plan7.txt',\n",
       " 'plan6.txt',\n",
       " 'plan4.txt',\n",
       " 'plan5.txt',\n",
       " 'plan3.txt',\n",
       " 'plan12.txt',\n",
       " 'plan8.txt',\n",
       " 'plan9.txt',\n",
       " 'plan13.txt',\n",
       " 'plan11.txt',\n",
       " 'plan10.txt']"
      ]
     },
     "execution_count": 6,
     "metadata": {},
     "output_type": "execute_result"
    }
   ],
   "source": [
    "s1_solver(search_goal, search_path)"
   ]
  },
  {
   "cell_type": "code",
   "execution_count": null,
   "metadata": {},
   "outputs": [],
   "source": []
  }
 ],
 "metadata": {
  "kernelspec": {
   "display_name": "Python 3",
   "language": "python",
   "name": "python3"
  },
  "language_info": {
   "codemirror_mode": {
    "name": "ipython",
    "version": 3
   },
   "file_extension": ".py",
   "mimetype": "text/x-python",
   "name": "python",
   "nbconvert_exporter": "python",
   "pygments_lexer": "ipython3",
   "version": "3.7.6"
  }
 },
 "nbformat": 4,
 "nbformat_minor": 4
}
